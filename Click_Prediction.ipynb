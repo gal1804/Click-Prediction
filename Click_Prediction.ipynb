{
  "cells": [
    {
      "cell_type": "markdown",
      "metadata": {
        "id": "view-in-github",
        "colab_type": "text"
      },
      "source": [
        "<a href=\"https://colab.research.google.com/github/gal1804/Click-Prediction/blob/main/Click_Prediction.ipynb\" target=\"_parent\"><img src=\"https://colab.research.google.com/assets/colab-badge.svg\" alt=\"Open In Colab\"/></a>"
      ]
    },
    {
      "cell_type": "code",
      "source": [
        "pip install xgboost --upgrade"
      ],
      "metadata": {
        "colab": {
          "base_uri": "https://localhost:8080/"
        },
        "id": "P5dKL02wHcaN",
        "outputId": "b57375c8-d6a7-406f-dd45-15e07ed8418a"
      },
      "execution_count": null,
      "outputs": [
        {
          "output_type": "stream",
          "name": "stdout",
          "text": [
            "Looking in indexes: https://pypi.org/simple, https://us-python.pkg.dev/colab-wheels/public/simple/\n",
            "Requirement already satisfied: xgboost in /usr/local/lib/python3.7/dist-packages (0.90)\n",
            "Collecting xgboost\n",
            "  Downloading xgboost-1.6.2-py3-none-manylinux2014_x86_64.whl (255.9 MB)\n",
            "\u001b[K     |████████████████████████████████| 255.9 MB 49 kB/s \n",
            "\u001b[?25hRequirement already satisfied: numpy in /usr/local/lib/python3.7/dist-packages (from xgboost) (1.21.6)\n",
            "Requirement already satisfied: scipy in /usr/local/lib/python3.7/dist-packages (from xgboost) (1.7.3)\n",
            "Installing collected packages: xgboost\n",
            "  Attempting uninstall: xgboost\n",
            "    Found existing installation: xgboost 0.90\n",
            "    Uninstalling xgboost-0.90:\n",
            "      Successfully uninstalled xgboost-0.90\n",
            "Successfully installed xgboost-1.6.2\n"
          ]
        }
      ]
    },
    {
      "cell_type": "code",
      "source": [
        "pip install us"
      ],
      "metadata": {
        "colab": {
          "base_uri": "https://localhost:8080/"
        },
        "id": "S47Nf2TYosT6",
        "outputId": "c7a92275-3d25-47b5-9073-aa88c3e5621d"
      },
      "execution_count": null,
      "outputs": [
        {
          "output_type": "stream",
          "name": "stdout",
          "text": [
            "Looking in indexes: https://pypi.org/simple, https://us-python.pkg.dev/colab-wheels/public/simple/\n",
            "Collecting us\n",
            "  Downloading us-2.0.2.tar.gz (14 kB)\n",
            "Collecting jellyfish==0.6.1\n",
            "  Downloading jellyfish-0.6.1.tar.gz (132 kB)\n",
            "\u001b[K     |████████████████████████████████| 132 kB 21.9 MB/s \n",
            "\u001b[?25hBuilding wheels for collected packages: us, jellyfish\n",
            "  Building wheel for us (setup.py) ... \u001b[?25l\u001b[?25hdone\n",
            "  Created wheel for us: filename=us-2.0.2-py3-none-any.whl size=11945 sha256=c87142929a923a1964999ba8acd5e9a075492c1a2a07683d4489321af7227ed3\n",
            "  Stored in directory: /root/.cache/pip/wheels/ca/6b/11/cda9ea2438f721330a35c9a2c8e34b4aedcd34c89af48a4d00\n",
            "  Building wheel for jellyfish (setup.py) ... \u001b[?25l\u001b[?25hdone\n",
            "  Created wheel for jellyfish: filename=jellyfish-0.6.1-cp37-cp37m-linux_x86_64.whl size=72182 sha256=f6ec3d7d1990ae50a239ae28f74f144f4d57d1d34385a16fe4070a7135a4d96c\n",
            "  Stored in directory: /root/.cache/pip/wheels/a1/99/51/7de469e37cd1b3c763c24394e1ebf1baa2d79e094bf346cf80\n",
            "Successfully built us jellyfish\n",
            "Installing collected packages: jellyfish, us\n",
            "Successfully installed jellyfish-0.6.1 us-2.0.2\n"
          ]
        }
      ]
    },
    {
      "cell_type": "code",
      "execution_count": null,
      "metadata": {
        "id": "FIOVFpA_XqDh",
        "colab": {
          "base_uri": "https://localhost:8080/"
        },
        "outputId": "a182e833-c3d2-4182-db27-889040595a09"
      },
      "outputs": [
        {
          "output_type": "stream",
          "name": "stdout",
          "text": [
            "Drive already mounted at /content/drive; to attempt to forcibly remount, call drive.mount(\"/content/drive\", force_remount=True).\n"
          ]
        }
      ],
      "source": [
        "import pandas as pd\n",
        "import numpy as np\n",
        "import datetime\n",
        "from pandas import Timestamp\n",
        "from datetime import datetime, timezone, timedelta\n",
        "import us\n",
        "from dateutil import tz\n",
        "import xgboost as xgb\n",
        "import sklearn as sk\n",
        "from sklearn.model_selection import train_test_split\n",
        "from google.colab import files\n",
        "from sklearn.metrics import accuracy_score\n",
        "import io\n",
        "from google.colab import drive\n",
        "drive.mount('/content/drive')"
      ]
    },
    {
      "cell_type": "code",
      "source": [
        "path = \"/content/drive/MyDrive/data/android_bids_us.csv\"\n",
        "df = pd.read_csv(path, header='infer')# Dataset is now stored in a Pandas Dataframe"
      ],
      "metadata": {
        "id": "lPVVa-3LVQSR"
      },
      "execution_count": null,
      "outputs": []
    },
    {
      "cell_type": "code",
      "execution_count": null,
      "metadata": {
        "id": "VxQR7R7wXyhD"
      },
      "outputs": [],
      "source": [
        "us_state_to_abbrev = {\n",
        "    \"Alabama\": \"AL\",\n",
        "    \"Alaska\": \"AK\",\n",
        "    \"Arizona\": \"AZ\",\n",
        "    \"Arkansas\": \"AR\",\n",
        "    \"California\": \"CA\",\n",
        "    \"Colorado\": \"CO\",\n",
        "    \"Connecticut\": \"CT\",\n",
        "    \"Delaware\": \"DE\",\n",
        "    \"Florida\": \"FL\",\n",
        "    \"Georgia\": \"GA\",\n",
        "    \"Hawaii\": \"HI\",\n",
        "    \"Idaho\": \"ID\",\n",
        "    \"Illinois\": \"IL\",\n",
        "    \"Indiana\": \"IN\",\n",
        "    \"Iowa\": \"IA\",\n",
        "    \"Kansas\": \"KS\",\n",
        "    \"Kentucky\": \"KY\",\n",
        "    \"Louisiana\": \"LA\",\n",
        "    \"Maine\": \"ME\",\n",
        "    \"Maryland\": \"MD\",\n",
        "    \"Massachusetts\": \"MA\",\n",
        "    \"Michigan\": \"MI\",\n",
        "    \"Minnesota\": \"MN\",\n",
        "    \"Mississippi\": \"MS\",\n",
        "    \"Missouri\": \"MO\",\n",
        "    \"Montana\": \"MT\",\n",
        "    \"Nebraska\": \"NE\",\n",
        "    \"Nevada\": \"NV\",\n",
        "    \"New Hampshire\": \"NH\",\n",
        "    \"New Jersey\": \"NJ\",\n",
        "    \"New Mexico\": \"NM\",\n",
        "    \"New York\": \"NY\",\n",
        "    \"North Carolina\": \"NC\",\n",
        "    \"North Dakota\": \"ND\",\n",
        "    \"Ohio\": \"OH\",\n",
        "    \"Oklahoma\": \"OK\",\n",
        "    \"Oregon\": \"OR\",\n",
        "    \"Pennsylvania\": \"PA\",\n",
        "    \"Rhode Island\": \"RI\",\n",
        "    \"South Carolina\": \"SC\",\n",
        "    \"South Dakota\": \"SD\",\n",
        "    \"Tennessee\": \"TN\",\n",
        "    \"Texas\": \"TX\",\n",
        "    \"Utah\": \"UT\",\n",
        "    \"Vermont\": \"VT\",\n",
        "    \"Virginia\": \"VA\",\n",
        "    \"Washington\": \"WA\",\n",
        "    \"West Virginia\": \"WV\",\n",
        "    \"Wisconsin\": \"WI\",\n",
        "    \"Wyoming\": \"WY\",\n",
        "    \"District of Columbia\": \"DC\",\n",
        "    \"American Samoa\": \"AS\",\n",
        "    \"Guam\": \"GU\",\n",
        "    \"Northern Mariana Islands\": \"MP\",\n",
        "    \"Puerto Rico\": \"PR\",\n",
        "    \"United States Minor Outlying Islands\": \"UM\",\n",
        "    \"U.S. Virgin Islands\": \"VI\",\n",
        "}\n",
        "    \n",
        "# invert the dictionary\n",
        "abbrev_to_us_state = dict(map(reversed, us_state_to_abbrev.items()))\n",
        "\n",
        "\n",
        "def ex_time_of_day(hour_column): #peroid of day\n",
        "    if (hour_column > 4) and (hour_column <= 8):\n",
        "        return 'Early Morning'\n",
        "    elif (hour_column > 8) and (hour_column <= 12 ):\n",
        "        return 'Morning'\n",
        "    elif (hour_column > 12) and (hour_column <= 16):\n",
        "        return'Noon'\n",
        "    elif (hour_column > 16) and (hour_column <= 20) :\n",
        "        return 'Eve'\n",
        "    elif (hour_column > 20) and (hour_column <= 24):\n",
        "        return'Night'\n",
        "    elif (hour_column <= 4):\n",
        "        return'Late Night'\n",
        "    \n",
        "    \n",
        "def ex_season(month_column): #season in year\n",
        "    if (month_column >= 1) and (month_column <= 3):\n",
        "        return 'winter'\n",
        "    elif (month_column >= 4) and (month_column <= 6):\n",
        "        return 'spring'\n",
        "    elif (month_column >= 7) and (month_column <= 9):\n",
        "        return'summer'\n",
        "    elif (month_column >= 10) and (month_column <= 12) :\n",
        "        return 'fall'\n",
        "    \n",
        "    \n",
        "def convert(row):\n",
        "    from_zone = tz.gettz('UTC')\n",
        "    to_zone = tz.gettz(row['user_state_tz'])\n",
        "    utc = row['utc_timestamp'].replace(tzinfo=from_zone)\n",
        "    target = utc.astimezone(to_zone)\n",
        "    return target.strftime('%Y-%m-%d %H:%M:%S.%f')[:-3]"
      ]
    },
    {
      "cell_type": "code",
      "execution_count": null,
      "metadata": {
        "id": "heYLn9ysd1_U"
      },
      "outputs": [],
      "source": [
        "df['user_state_tz'] = df['user_state'].map(lambda x: us.states.lookup(x).capital_tz) #create a column with full state name\n",
        "df['user_state_full_name'] = df['user_state'].map(lambda x: abbrev_to_us_state.get(x, x)) #create a column with a tz area from each state\n",
        "df['utc_timestamp'] = pd.to_datetime(df['utc_time'], unit='ms') # epoch time to utc\n",
        "\n",
        "df['local_time'] = df.apply(lambda row: convert(row), axis=1)\n",
        "df['local_time'] = pd.to_datetime(df['local_time'], format='%Y-%m-%d %H:%M:%S.%f')\n",
        "df['dayofweek'] = df['local_time'].dt.dayofweek #what day of the week this row belongs to\n",
        "\n",
        "df['hour'] =  df['local_time'].dt.hour\n",
        "df['month'] = df['local_time'].dt.month\n",
        "\n",
        "df['timeofday'] = df['hour'].apply(ex_time_of_day)\n",
        "#df['season'] = df['month'].apply(ex_season)\n",
        "\n",
        "\n",
        "df = df.astype('category').replace('nan',np.nan)"
      ]
    },
    {
      "cell_type": "code",
      "source": [
        "df = df.dropna(axis = 'rows', subset=['device_maker', 'device_model'])\n",
        "\n",
        "df = df[['app_id', #leaving only relevant columns\n",
        "         'user_state_full_name',\n",
        "         'dayofweek',\n",
        "         'user_isp',\n",
        "         'device_maker',\n",
        "         'device_model',\n",
        "         'device_osv',\n",
        "         'device_height',\n",
        "         'device_width',\n",
        "         'timeofday',\n",
        "         #'season',\n",
        "         'month',\n",
        "         'click']]"
      ],
      "metadata": {
        "id": "rQNjdwoCDrBZ"
      },
      "execution_count": null,
      "outputs": []
    },
    {
      "cell_type": "code",
      "source": [
        "df.isnull().sum(axis = 0) #count Nans in every column"
      ],
      "metadata": {
        "colab": {
          "base_uri": "https://localhost:8080/"
        },
        "id": "mFfxj5f7hYhe",
        "outputId": "64337dc5-0d8d-469e-cb6c-dd217a2f439f"
      },
      "execution_count": null,
      "outputs": [
        {
          "output_type": "execute_result",
          "data": {
            "text/plain": [
              "app_id                   0\n",
              "user_state_full_name     0\n",
              "dayofweek                0\n",
              "user_isp                25\n",
              "device_maker             0\n",
              "device_model             0\n",
              "device_osv               0\n",
              "device_height            0\n",
              "device_width             0\n",
              "timeofday                0\n",
              "month                    0\n",
              "click                    0\n",
              "dtype: int64"
            ]
          },
          "metadata": {},
          "execution_count": 34
        }
      ]
    },
    {
      "cell_type": "code",
      "source": [
        "df.dtypes"
      ],
      "metadata": {
        "colab": {
          "base_uri": "https://localhost:8080/"
        },
        "id": "bSYkmyZXhcwB",
        "outputId": "c4ea174d-9c16-4774-8851-377473cc3ffa"
      },
      "execution_count": null,
      "outputs": [
        {
          "output_type": "execute_result",
          "data": {
            "text/plain": [
              "app_id                  category\n",
              "user_state_full_name    category\n",
              "dayofweek               category\n",
              "user_isp                category\n",
              "device_maker            category\n",
              "device_model            category\n",
              "device_osv              category\n",
              "device_height           category\n",
              "device_width            category\n",
              "timeofday               category\n",
              "month                   category\n",
              "click                   category\n",
              "dtype: object"
            ]
          },
          "metadata": {},
          "execution_count": 35
        }
      ]
    },
    {
      "cell_type": "code",
      "source": [
        "cols_lst = list(df.columns)\n",
        "[[col, df[col].nunique()] for col in cols_lst] #num of unique values in every column"
      ],
      "metadata": {
        "colab": {
          "base_uri": "https://localhost:8080/"
        },
        "id": "K5XOYgBXheSh",
        "outputId": "be297b19-c0df-4d33-c2f6-54dbde59a12b"
      },
      "execution_count": null,
      "outputs": [
        {
          "output_type": "execute_result",
          "data": {
            "text/plain": [
              "[['app_id', 13375],\n",
              " ['user_state_full_name', 51],\n",
              " ['dayofweek', 7],\n",
              " ['user_isp', 2540],\n",
              " ['device_maker', 265],\n",
              " ['device_model', 2342],\n",
              " ['device_osv', 16],\n",
              " ['device_height', 272],\n",
              " ['device_width', 218],\n",
              " ['timeofday', 6],\n",
              " ['month', 3],\n",
              " ['click', 2]]"
            ]
          },
          "metadata": {},
          "execution_count": 36
        }
      ]
    },
    {
      "cell_type": "code",
      "source": [
        "len(df)"
      ],
      "metadata": {
        "colab": {
          "base_uri": "https://localhost:8080/"
        },
        "id": "4N6XZ5VlhfjJ",
        "outputId": "14a1cab7-b86b-493b-d8ae-dfd6c9a77a93"
      },
      "execution_count": null,
      "outputs": [
        {
          "output_type": "execute_result",
          "data": {
            "text/plain": [
              "2184800"
            ]
          },
          "metadata": {},
          "execution_count": 37
        }
      ]
    },
    {
      "cell_type": "code",
      "source": [
        "df.groupby(['timeofday', 'month', 'click']).size()"
      ],
      "metadata": {
        "colab": {
          "base_uri": "https://localhost:8080/"
        },
        "id": "PpqNVHAPhhLk",
        "outputId": "b9cbb35c-ad43-4569-b569-2e5508f6e16c"
      },
      "execution_count": null,
      "outputs": [
        {
          "output_type": "execute_result",
          "data": {
            "text/plain": [
              "timeofday      month  click\n",
              "Early Morning  8      0             0\n",
              "                      1             0\n",
              "               9      0        100879\n",
              "                      1          7941\n",
              "               10     0        111718\n",
              "                      1          9467\n",
              "               11     0         30099\n",
              "                      1          2757\n",
              "Eve            8      0             0\n",
              "                      1             0\n",
              "               9      0         80658\n",
              "                      1          6243\n",
              "               10     0        237119\n",
              "                      1         18339\n",
              "               11     0        109125\n",
              "                      1          8191\n",
              "Late Night     8      0             0\n",
              "                      1             0\n",
              "               9      0         84981\n",
              "                      1          6159\n",
              "               10     0        101506\n",
              "                      1          7810\n",
              "               11     0         29336\n",
              "                      1          2427\n",
              "Morning        8      0             0\n",
              "                      1             0\n",
              "               9      0        109449\n",
              "                      1          8306\n",
              "               10     0        185785\n",
              "                      1         15423\n",
              "               11     0         72324\n",
              "                      1          5902\n",
              "Night          8      0             0\n",
              "                      1             0\n",
              "               9      0         61200\n",
              "                      1          4389\n",
              "               10     0        142446\n",
              "                      1         10431\n",
              "               11     0         69658\n",
              "                      1          5337\n",
              "Noon           8      0             0\n",
              "                      1             0\n",
              "               9      0        132428\n",
              "                      1          9457\n",
              "               10     0        279587\n",
              "                      1         21690\n",
              "               11     0         89566\n",
              "                      1          6667\n",
              "dtype: int64"
            ]
          },
          "metadata": {},
          "execution_count": 57
        }
      ]
    },
    {
      "cell_type": "code",
      "source": [
        "# Supported tree methods are `gpu_hist`, `approx`, and `hist`.\n",
        "clf = xgb.XGBClassifier(\n",
        "    tree_method=\"gpu_hist\", enable_categorical=True, use_label_encoder=False\n",
        ")"
      ],
      "metadata": {
        "id": "9hSYIqighi06",
        "outputId": "a99a50cb-af88-4390-cd24-df5d02218dd2",
        "colab": {
          "base_uri": "https://localhost:8080/"
        }
      },
      "execution_count": null,
      "outputs": [
        {
          "output_type": "error",
          "ename": "NameError",
          "evalue": "ignored",
          "traceback": [
            "\u001b[0;31m---------------------------------------------------------------------------\u001b[0m",
            "\u001b[0;31mNameError\u001b[0m                                 Traceback (most recent call last)",
            "\u001b[0;32m<ipython-input-1-1c745be38b0d>\u001b[0m in \u001b[0;36m<module>\u001b[0;34m\u001b[0m\n\u001b[1;32m      1\u001b[0m \u001b[0;31m# Supported tree methods are `gpu_hist`, `approx`, and `hist`.\u001b[0m\u001b[0;34m\u001b[0m\u001b[0;34m\u001b[0m\u001b[0;34m\u001b[0m\u001b[0m\n\u001b[0;32m----> 2\u001b[0;31m clf = xgb.XGBClassifier(\n\u001b[0m\u001b[1;32m      3\u001b[0m     \u001b[0mtree_method\u001b[0m\u001b[0;34m=\u001b[0m\u001b[0;34m\"gpu_hist\"\u001b[0m\u001b[0;34m,\u001b[0m \u001b[0menable_categorical\u001b[0m\u001b[0;34m=\u001b[0m\u001b[0;32mTrue\u001b[0m\u001b[0;34m,\u001b[0m \u001b[0muse_label_encoder\u001b[0m\u001b[0;34m=\u001b[0m\u001b[0;32mFalse\u001b[0m\u001b[0;34m\u001b[0m\u001b[0;34m\u001b[0m\u001b[0m\n\u001b[1;32m      4\u001b[0m )\n",
            "\u001b[0;31mNameError\u001b[0m: name 'xgb' is not defined"
          ]
        }
      ]
    },
    {
      "cell_type": "code",
      "source": [
        "Y_col = 'click'\n",
        "X_cols = df.loc[:, df.columns != Y_col].columns\n",
        "\n",
        "X_train, X_test, y_train, y_test = train_test_split(df[X_cols], df[Y_col],test_size=0.2, random_state=14)"
      ],
      "metadata": {
        "id": "CHNItv_UhlEc"
      },
      "execution_count": null,
      "outputs": []
    },
    {
      "cell_type": "code",
      "source": [
        "# X is the dataframe we created in previous snippet\n",
        "clf.fit(X_train, y_train)\n",
        "# Must use JSON/UBJSON for serialization, otherwise the information is lost.\n",
        "clf.save_model(\"categorical-model.json\")"
      ],
      "metadata": {
        "id": "_qgwGkNnhmqA"
      },
      "execution_count": null,
      "outputs": []
    },
    {
      "cell_type": "code",
      "source": [
        "y_pred = clf.predict(X_test)\n",
        "predictions = [round(value) for value in y_pred]"
      ],
      "metadata": {
        "id": "omS8HOh3Jjfh"
      },
      "execution_count": null,
      "outputs": []
    },
    {
      "cell_type": "code",
      "source": [
        "accuracy = accuracy_score(y_test, predictions)\n",
        "print(\"Accuracy: %.2f%%\" % (accuracy * 100.0))"
      ],
      "metadata": {
        "colab": {
          "base_uri": "https://localhost:8080/"
        },
        "id": "wIQMNa8vJ89_",
        "outputId": "35a46bfe-934a-4c39-8e23-56408486820a"
      },
      "execution_count": null,
      "outputs": [
        {
          "output_type": "stream",
          "name": "stdout",
          "text": [
            "Accuracy: 90.57%\n"
          ]
        }
      ]
    },
    {
      "cell_type": "code",
      "source": [
        "y_train"
      ],
      "metadata": {
        "colab": {
          "base_uri": "https://localhost:8080/"
        },
        "id": "cgdsUqyAQhjV",
        "outputId": "2625b56c-cdda-470c-fb07-119870368816"
      },
      "execution_count": null,
      "outputs": [
        {
          "output_type": "execute_result",
          "data": {
            "text/plain": [
              "607561     0\n",
              "1615613    0\n",
              "745062     0\n",
              "2065607    0\n",
              "2352132    0\n",
              "          ..\n",
              "2050799    0\n",
              "641120     0\n",
              "2146875    0\n",
              "2253997    0\n",
              "1305329    0\n",
              "Name: click, Length: 2519062, dtype: category\n",
              "Categories (2, int64): [0, 1]"
            ]
          },
          "metadata": {},
          "execution_count": 20
        }
      ]
    },
    {
      "cell_type": "code",
      "source": [
        "type(y_test)"
      ],
      "metadata": {
        "colab": {
          "base_uri": "https://localhost:8080/"
        },
        "id": "BnmW5E3SQiNb",
        "outputId": "919ef191-16dc-422d-fa3b-9b89543effc2"
      },
      "execution_count": null,
      "outputs": [
        {
          "output_type": "execute_result",
          "data": {
            "text/plain": [
              "pandas.core.series.Series"
            ]
          },
          "metadata": {},
          "execution_count": 21
        }
      ]
    },
    {
      "cell_type": "code",
      "source": [
        "df[Y_col]"
      ],
      "metadata": {
        "colab": {
          "base_uri": "https://localhost:8080/"
        },
        "id": "mxX5Oh0-QlQO",
        "outputId": "27aa71ed-85b2-474f-8ae9-5509f035db75"
      },
      "execution_count": null,
      "outputs": [
        {
          "output_type": "execute_result",
          "data": {
            "text/plain": [
              "0          0\n",
              "1          0\n",
              "2          0\n",
              "3          0\n",
              "4          0\n",
              "          ..\n",
              "3148823    0\n",
              "3148824    0\n",
              "3148825    0\n",
              "3148826    0\n",
              "3148827    0\n",
              "Name: click, Length: 3148828, dtype: category\n",
              "Categories (2, int64): [0, 1]"
            ]
          },
          "metadata": {},
          "execution_count": 22
        }
      ]
    },
    {
      "cell_type": "code",
      "source": [
        "df.head()"
      ],
      "metadata": {
        "colab": {
          "base_uri": "https://localhost:8080/",
          "height": 206
        },
        "id": "kns_5jG5UUMy",
        "outputId": "743b8251-791d-4578-a95e-eb13a5564fe2"
      },
      "execution_count": null,
      "outputs": [
        {
          "output_type": "execute_result",
          "data": {
            "text/plain": [
              "                                 app_id user_state_full_name dayofweek  \\\n",
              "46  com.critical.strike.shoot.fire.fssc           California         0   \n",
              "47               com.cardgame.solitaire              Alabama         1   \n",
              "48                 com.xiart.fb.towersx           California         0   \n",
              "49             com.thumbspire.weedfirm2       North Carolina         1   \n",
              "50     com.zentertain.classicvegasslots              Georgia         1   \n",
              "\n",
              "         user_isp device_maker device_model device_osv device_height  \\\n",
              "46  AT&T Wireless      Samsung    SM-G920AZ        7.0          1080   \n",
              "47  AT&T Wireless      Samsung     SM-G955U        7.0          1280   \n",
              "48   Google Fiber      Samsung     SM-G930V      8.0.0          1080   \n",
              "49   T-Mobile USA           LG        MS210        7.0          1280   \n",
              "50     Sprint PCS           LG        LS777        7.0           720   \n",
              "\n",
              "   device_width   timeofday month click  \n",
              "46         1920       Night     9     0  \n",
              "47          720  Late Night     9     0  \n",
              "48         1920       Night     9     1  \n",
              "49          720  Late Night     9     0  \n",
              "50         1280  Late Night     9     0  "
            ],
            "text/html": [
              "\n",
              "  <div id=\"df-2aade2ed-0f8d-4d37-b71e-ed31b26734f4\">\n",
              "    <div class=\"colab-df-container\">\n",
              "      <div>\n",
              "<style scoped>\n",
              "    .dataframe tbody tr th:only-of-type {\n",
              "        vertical-align: middle;\n",
              "    }\n",
              "\n",
              "    .dataframe tbody tr th {\n",
              "        vertical-align: top;\n",
              "    }\n",
              "\n",
              "    .dataframe thead th {\n",
              "        text-align: right;\n",
              "    }\n",
              "</style>\n",
              "<table border=\"1\" class=\"dataframe\">\n",
              "  <thead>\n",
              "    <tr style=\"text-align: right;\">\n",
              "      <th></th>\n",
              "      <th>app_id</th>\n",
              "      <th>user_state_full_name</th>\n",
              "      <th>dayofweek</th>\n",
              "      <th>user_isp</th>\n",
              "      <th>device_maker</th>\n",
              "      <th>device_model</th>\n",
              "      <th>device_osv</th>\n",
              "      <th>device_height</th>\n",
              "      <th>device_width</th>\n",
              "      <th>timeofday</th>\n",
              "      <th>month</th>\n",
              "      <th>click</th>\n",
              "    </tr>\n",
              "  </thead>\n",
              "  <tbody>\n",
              "    <tr>\n",
              "      <th>46</th>\n",
              "      <td>com.critical.strike.shoot.fire.fssc</td>\n",
              "      <td>California</td>\n",
              "      <td>0</td>\n",
              "      <td>AT&amp;T Wireless</td>\n",
              "      <td>Samsung</td>\n",
              "      <td>SM-G920AZ</td>\n",
              "      <td>7.0</td>\n",
              "      <td>1080</td>\n",
              "      <td>1920</td>\n",
              "      <td>Night</td>\n",
              "      <td>9</td>\n",
              "      <td>0</td>\n",
              "    </tr>\n",
              "    <tr>\n",
              "      <th>47</th>\n",
              "      <td>com.cardgame.solitaire</td>\n",
              "      <td>Alabama</td>\n",
              "      <td>1</td>\n",
              "      <td>AT&amp;T Wireless</td>\n",
              "      <td>Samsung</td>\n",
              "      <td>SM-G955U</td>\n",
              "      <td>7.0</td>\n",
              "      <td>1280</td>\n",
              "      <td>720</td>\n",
              "      <td>Late Night</td>\n",
              "      <td>9</td>\n",
              "      <td>0</td>\n",
              "    </tr>\n",
              "    <tr>\n",
              "      <th>48</th>\n",
              "      <td>com.xiart.fb.towersx</td>\n",
              "      <td>California</td>\n",
              "      <td>0</td>\n",
              "      <td>Google Fiber</td>\n",
              "      <td>Samsung</td>\n",
              "      <td>SM-G930V</td>\n",
              "      <td>8.0.0</td>\n",
              "      <td>1080</td>\n",
              "      <td>1920</td>\n",
              "      <td>Night</td>\n",
              "      <td>9</td>\n",
              "      <td>1</td>\n",
              "    </tr>\n",
              "    <tr>\n",
              "      <th>49</th>\n",
              "      <td>com.thumbspire.weedfirm2</td>\n",
              "      <td>North Carolina</td>\n",
              "      <td>1</td>\n",
              "      <td>T-Mobile USA</td>\n",
              "      <td>LG</td>\n",
              "      <td>MS210</td>\n",
              "      <td>7.0</td>\n",
              "      <td>1280</td>\n",
              "      <td>720</td>\n",
              "      <td>Late Night</td>\n",
              "      <td>9</td>\n",
              "      <td>0</td>\n",
              "    </tr>\n",
              "    <tr>\n",
              "      <th>50</th>\n",
              "      <td>com.zentertain.classicvegasslots</td>\n",
              "      <td>Georgia</td>\n",
              "      <td>1</td>\n",
              "      <td>Sprint PCS</td>\n",
              "      <td>LG</td>\n",
              "      <td>LS777</td>\n",
              "      <td>7.0</td>\n",
              "      <td>720</td>\n",
              "      <td>1280</td>\n",
              "      <td>Late Night</td>\n",
              "      <td>9</td>\n",
              "      <td>0</td>\n",
              "    </tr>\n",
              "  </tbody>\n",
              "</table>\n",
              "</div>\n",
              "      <button class=\"colab-df-convert\" onclick=\"convertToInteractive('df-2aade2ed-0f8d-4d37-b71e-ed31b26734f4')\"\n",
              "              title=\"Convert this dataframe to an interactive table.\"\n",
              "              style=\"display:none;\">\n",
              "        \n",
              "  <svg xmlns=\"http://www.w3.org/2000/svg\" height=\"24px\"viewBox=\"0 0 24 24\"\n",
              "       width=\"24px\">\n",
              "    <path d=\"M0 0h24v24H0V0z\" fill=\"none\"/>\n",
              "    <path d=\"M18.56 5.44l.94 2.06.94-2.06 2.06-.94-2.06-.94-.94-2.06-.94 2.06-2.06.94zm-11 1L8.5 8.5l.94-2.06 2.06-.94-2.06-.94L8.5 2.5l-.94 2.06-2.06.94zm10 10l.94 2.06.94-2.06 2.06-.94-2.06-.94-.94-2.06-.94 2.06-2.06.94z\"/><path d=\"M17.41 7.96l-1.37-1.37c-.4-.4-.92-.59-1.43-.59-.52 0-1.04.2-1.43.59L10.3 9.45l-7.72 7.72c-.78.78-.78 2.05 0 2.83L4 21.41c.39.39.9.59 1.41.59.51 0 1.02-.2 1.41-.59l7.78-7.78 2.81-2.81c.8-.78.8-2.07 0-2.86zM5.41 20L4 18.59l7.72-7.72 1.47 1.35L5.41 20z\"/>\n",
              "  </svg>\n",
              "      </button>\n",
              "      \n",
              "  <style>\n",
              "    .colab-df-container {\n",
              "      display:flex;\n",
              "      flex-wrap:wrap;\n",
              "      gap: 12px;\n",
              "    }\n",
              "\n",
              "    .colab-df-convert {\n",
              "      background-color: #E8F0FE;\n",
              "      border: none;\n",
              "      border-radius: 50%;\n",
              "      cursor: pointer;\n",
              "      display: none;\n",
              "      fill: #1967D2;\n",
              "      height: 32px;\n",
              "      padding: 0 0 0 0;\n",
              "      width: 32px;\n",
              "    }\n",
              "\n",
              "    .colab-df-convert:hover {\n",
              "      background-color: #E2EBFA;\n",
              "      box-shadow: 0px 1px 2px rgba(60, 64, 67, 0.3), 0px 1px 3px 1px rgba(60, 64, 67, 0.15);\n",
              "      fill: #174EA6;\n",
              "    }\n",
              "\n",
              "    [theme=dark] .colab-df-convert {\n",
              "      background-color: #3B4455;\n",
              "      fill: #D2E3FC;\n",
              "    }\n",
              "\n",
              "    [theme=dark] .colab-df-convert:hover {\n",
              "      background-color: #434B5C;\n",
              "      box-shadow: 0px 1px 3px 1px rgba(0, 0, 0, 0.15);\n",
              "      filter: drop-shadow(0px 1px 2px rgba(0, 0, 0, 0.3));\n",
              "      fill: #FFFFFF;\n",
              "    }\n",
              "  </style>\n",
              "\n",
              "      <script>\n",
              "        const buttonEl =\n",
              "          document.querySelector('#df-2aade2ed-0f8d-4d37-b71e-ed31b26734f4 button.colab-df-convert');\n",
              "        buttonEl.style.display =\n",
              "          google.colab.kernel.accessAllowed ? 'block' : 'none';\n",
              "\n",
              "        async function convertToInteractive(key) {\n",
              "          const element = document.querySelector('#df-2aade2ed-0f8d-4d37-b71e-ed31b26734f4');\n",
              "          const dataTable =\n",
              "            await google.colab.kernel.invokeFunction('convertToInteractive',\n",
              "                                                     [key], {});\n",
              "          if (!dataTable) return;\n",
              "\n",
              "          const docLinkHtml = 'Like what you see? Visit the ' +\n",
              "            '<a target=\"_blank\" href=https://colab.research.google.com/notebooks/data_table.ipynb>data table notebook</a>'\n",
              "            + ' to learn more about interactive tables.';\n",
              "          element.innerHTML = '';\n",
              "          dataTable['output_type'] = 'display_data';\n",
              "          await google.colab.output.renderOutput(dataTable, element);\n",
              "          const docLink = document.createElement('div');\n",
              "          docLink.innerHTML = docLinkHtml;\n",
              "          element.appendChild(docLink);\n",
              "        }\n",
              "      </script>\n",
              "    </div>\n",
              "  </div>\n",
              "  "
            ]
          },
          "metadata": {},
          "execution_count": 55
        }
      ]
    },
    {
      "cell_type": "code",
      "source": [
        "df.isnull().sum(axis = 0) #count Nans in every column"
      ],
      "metadata": {
        "colab": {
          "base_uri": "https://localhost:8080/"
        },
        "id": "yRHkYzg0Chi4",
        "outputId": "795fe77c-3e87-4c89-a3d9-0c21c57d7445"
      },
      "execution_count": null,
      "outputs": [
        {
          "output_type": "execute_result",
          "data": {
            "text/plain": [
              "app_id                       0\n",
              "user_state_full_name         0\n",
              "dayofweek                    0\n",
              "user_isp                    39\n",
              "device_maker            964004\n",
              "device_model            963858\n",
              "device_osv                   0\n",
              "device_height                0\n",
              "device_width                 0\n",
              "timeofday                    0\n",
              "month                        0\n",
              "click                        0\n",
              "dtype: int64"
            ]
          },
          "metadata": {},
          "execution_count": 28
        }
      ]
    },
    {
      "cell_type": "code",
      "source": [],
      "metadata": {
        "id": "frBX0xiNb5j-"
      },
      "execution_count": null,
      "outputs": []
    }
  ],
  "metadata": {
    "colab": {
      "provenance": [],
      "mount_file_id": "1gn5jqRqfHuSP7jIEkSE-AGIFAYJx7xZ2",
      "authorship_tag": "ABX9TyNrSMnG4hAhwvL5gHSjbAXP",
      "include_colab_link": true
    },
    "kernelspec": {
      "display_name": "Python 3",
      "name": "python3"
    },
    "language_info": {
      "name": "python"
    },
    "accelerator": "GPU"
  },
  "nbformat": 4,
  "nbformat_minor": 0
}